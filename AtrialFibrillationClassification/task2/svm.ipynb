{
 "cells": [
  {
   "cell_type": "code",
   "execution_count": 1,
   "metadata": {},
   "outputs": [],
   "source": [
    "import numpy as np\n",
    "import matplotlib.pyplot as plt\n",
    "from scipy.signal import butter, filtfilt\n",
    "from sklearn.model_selection import train_test_split\n",
    "from sklearn.preprocessing import StandardScaler\n",
    "from sklearn.svm import SVC\n",
    "from sklearn.metrics import classification_report, accuracy_score\n",
    "from sklearn.multiclass import OneVsRestClassifier\n",
    "from ecg_dataset import ECG_dataset\n",
    "from svm_plot import plot_decision_regions\n",
    "import heartpy as hp\n",
    "\n",
    "\n",
    "def extract_ecg_features(ecg_signal, sampling_rate):\n",
    "    # 提取R波峰值\n",
    "    wd, m = hp.process(ecg_signal, sample_rate=sampling_rate, bpmmin=1, bpmmax=1000)\n",
    "\n",
    "    # 心率\n",
    "    hr = m['bpm']\n",
    "\n",
    "    # 心率变异性 - 时域\n",
    "    hrv_time = m['sdnn']\n",
    "\n",
    "    # R波峰值间隔\n",
    "    rr_intervals = np.diff(wd['peaklist'])\n",
    "\n",
    "    # 计算波形复杂度 (示例: 标准差)\n",
    "    waveform_complexity = np.std(ecg_signal)\n",
    "\n",
    "    return [hr, hrv_time, np.mean(rr_intervals), waveform_complexity]\n",
    "\n",
    "\n",
    "def butter_bandpass_filter(data, lowcut, highcut, fs, order=5):\n",
    "    nyq = 0.5 * fs\n",
    "    low = lowcut / nyq\n",
    "    high = highcut / nyq\n",
    "    b, a = butter(order, [low, high], btype='band')\n",
    "    y = filtfilt(b, a, data)\n",
    "    return y"
   ]
  },
  {
   "cell_type": "code",
   "execution_count": 2,
   "metadata": {},
   "outputs": [
    {
     "name": "stderr",
     "output_type": "stream",
     "text": [
      "d:\\Anaconda3\\envs\\proj1\\Lib\\site-packages\\scipy\\interpolate\\_fitpack2.py:313: UserWarning: \n",
      "The maximal number of iterations maxit (set to 20 by the program)\n",
      "allowed for finding a smoothing spline with fp=s has been reached: s\n",
      "too small.\n",
      "There is an approximation returned but the corresponding weighted sum\n",
      "of squared residuals does not satisfy the condition abs(fp-s)/s < tol.\n",
      "  warnings.warn(message)\n",
      "d:\\Anaconda3\\envs\\proj1\\Lib\\site-packages\\numpy\\core\\fromnumeric.py:3504: RuntimeWarning: Mean of empty slice.\n",
      "  return _methods._mean(a, axis=axis, dtype=dtype,\n",
      "d:\\Anaconda3\\envs\\proj1\\Lib\\site-packages\\numpy\\core\\_methods.py:206: RuntimeWarning: Degrees of freedom <= 0 for slice\n",
      "  ret = _var(a, axis=axis, dtype=dtype, out=out, ddof=ddof,\n",
      "d:\\Anaconda3\\envs\\proj1\\Lib\\site-packages\\numpy\\ma\\core.py:5334: RuntimeWarning: Mean of empty slice.\n",
      "  result = super().mean(axis=axis, dtype=dtype, **kwargs)[()]\n",
      "d:\\Anaconda3\\envs\\proj1\\Lib\\site-packages\\numpy\\core\\fromnumeric.py:3787: RuntimeWarning: Degrees of freedom <= 0 for slice\n",
      "  return _methods._var(a, axis=axis, dtype=dtype, out=out, ddof=ddof,\n",
      "d:\\Anaconda3\\envs\\proj1\\Lib\\site-packages\\scipy\\interpolate\\_fitpack2.py:313: UserWarning: \n",
      "A theoretically impossible result was found during the iteration\n",
      "process for finding a smoothing spline with fp = s: s too small.\n",
      "There is an approximation returned but the corresponding weighted sum\n",
      "of squared residuals does not satisfy the condition abs(fp-s)/s < tol.\n",
      "  warnings.warn(message)\n"
     ]
    },
    {
     "name": "stdout",
     "output_type": "stream",
     "text": [
      "[[1.98044010e+02 1.64154733e+02 3.45238095e+01 6.95869543e-02]\n",
      " [2.36453202e+02 2.23994280e+02 3.20543478e+01 1.03753046e-01]\n",
      " [1.89111748e+02 1.45138862e+02 3.48205128e+01 6.71700983e-02]\n",
      " ...\n",
      " [2.59077527e+02 1.46224348e+02 2.69818182e+01 1.20573188e-01]\n",
      " [1.78846154e+02 1.21039549e+02 3.15698925e+01 9.76863718e-02]\n",
      " [1.46446518e+02 2.13410476e+02 3.37241379e+01 1.24017011e-01]]\n"
     ]
    }
   ],
   "source": [
    "heart_rate_data = ECG_dataset('./')\n",
    "# d = heart_rate_data[1]\n",
    "# x = np.linspace(0, 3000, 3000)  # x轴坐标值\n",
    "# plt.plot(x, d[0], c='r')  # 参数c为color简写，表示颜色,r为red即红色\n",
    "# plt.show()  # 显示图像'''\n",
    "sample_rating = 100\n",
    "features = []\n",
    "label = []\n",
    "\n",
    "for i in range(len(heart_rate_data)):\n",
    "    data = (heart_rate_data[i][0].numpy() - np.min(heart_rate_data[i][0].numpy())) / (np.max(heart_rate_data[i][0].numpy()) - np.min(heart_rate_data[i][0].numpy()))    # 数据归一化\n",
    "\n",
    "    data = butter_bandpass_filter(data, 0.5, 40, sample_rating) # 滤波\n",
    "    p = extract_ecg_features(data, sample_rating)   # 提取特征\n",
    "    features.append(np.array(p))\n",
    "\n",
    "    label.append(np.array(heart_rate_data[i][1]))\n",
    "\n",
    "label = np.array(label)\n",
    "features = np.array(features)\n",
    "features[np.isnan(features)] = 0\n",
    "features[np.isinf(features)] = 10000"
   ]
  },
  {
   "cell_type": "code",
   "execution_count": 15,
   "metadata": {},
   "outputs": [],
   "source": [
    "# from sklearn.decomposition import PCA\n",
    "\n",
    "\n",
    "# pca = PCA(n_components=4)\n",
    "# pca.fit(features)\n",
    "# features_new = pca.transform(features)\n",
    "features_new = features\n",
    "features_new = features_new - features_new.mean()\n",
    "features_new = features_new / features_new.std()"
   ]
  },
  {
   "cell_type": "code",
   "execution_count": 16,
   "metadata": {},
   "outputs": [
    {
     "name": "stderr",
     "output_type": "stream",
     "text": [
      "d:\\Anaconda3\\envs\\proj1\\Lib\\site-packages\\sklearn\\utils\\validation.py:1143: DataConversionWarning: A column-vector y was passed when a 1d array was expected. Please change the shape of y to (n_samples, ), for example using ravel().\n",
      "  y = column_or_1d(y, warn=True)\n"
     ]
    },
    {
     "name": "stdout",
     "output_type": "stream",
     "text": [
      "Accuracy: 0.9135531135531135\n",
      "Classification Report:\n",
      "              precision    recall  f1-score   support\n",
      "\n",
      "           0       0.91      1.00      0.95      1247\n",
      "           1       0.00      0.00      0.00       118\n",
      "\n",
      "    accuracy                           0.91      1365\n",
      "   macro avg       0.46      0.50      0.48      1365\n",
      "weighted avg       0.83      0.91      0.87      1365\n",
      "\n",
      "Accuracy: 0.9054945054945055\n",
      "Classification Report:\n",
      "              precision    recall  f1-score   support\n",
      "\n",
      "           0       0.92      0.98      0.95      1247\n",
      "           1       0.34      0.10      0.16       118\n",
      "\n",
      "    accuracy                           0.91      1365\n",
      "   macro avg       0.63      0.54      0.55      1365\n",
      "weighted avg       0.87      0.91      0.88      1365\n",
      "\n"
     ]
    },
    {
     "name": "stderr",
     "output_type": "stream",
     "text": [
      "d:\\Anaconda3\\envs\\proj1\\Lib\\site-packages\\sklearn\\metrics\\_classification.py:1344: UndefinedMetricWarning: Precision and F-score are ill-defined and being set to 0.0 in labels with no predicted samples. Use `zero_division` parameter to control this behavior.\n",
      "  _warn_prf(average, modifier, msg_start, len(result))\n",
      "d:\\Anaconda3\\envs\\proj1\\Lib\\site-packages\\sklearn\\metrics\\_classification.py:1344: UndefinedMetricWarning: Precision and F-score are ill-defined and being set to 0.0 in labels with no predicted samples. Use `zero_division` parameter to control this behavior.\n",
      "  _warn_prf(average, modifier, msg_start, len(result))\n",
      "d:\\Anaconda3\\envs\\proj1\\Lib\\site-packages\\sklearn\\metrics\\_classification.py:1344: UndefinedMetricWarning: Precision and F-score are ill-defined and being set to 0.0 in labels with no predicted samples. Use `zero_division` parameter to control this behavior.\n",
      "  _warn_prf(average, modifier, msg_start, len(result))\n",
      "d:\\Anaconda3\\envs\\proj1\\Lib\\site-packages\\sklearn\\neighbors\\_classification.py:215: DataConversionWarning: A column-vector y was passed when a 1d array was expected. Please change the shape of y to (n_samples,), for example using ravel().\n",
      "  return self._fit(X, y)\n",
      "C:\\Users\\youncle\\AppData\\Local\\Temp\\ipykernel_16320\\3813591474.py:31: DataConversionWarning: A column-vector y was passed when a 1d array was expected. Please change the shape of y to (n_samples,), for example using ravel().\n",
      "  clf.fit(X_train_scaler, y_train)\n"
     ]
    },
    {
     "name": "stdout",
     "output_type": "stream",
     "text": [
      "Accuracy: 0.9179487179487179\n",
      "Classification Report:\n",
      "              precision    recall  f1-score   support\n",
      "\n",
      "           0       0.92      1.00      0.96      1247\n",
      "           1       0.80      0.07      0.12       118\n",
      "\n",
      "    accuracy                           0.92      1365\n",
      "   macro avg       0.86      0.53      0.54      1365\n",
      "weighted avg       0.91      0.92      0.89      1365\n",
      "\n"
     ]
    }
   ],
   "source": [
    "X_train, X_test, y_train, y_test = train_test_split(features_new, label, test_size=0.2, random_state=42)\n",
    "\n",
    "scaler = StandardScaler()\n",
    "X_train_scaler = scaler.fit_transform(X_train)\n",
    "X_test_scaler = scaler.fit_transform(X_test)\n",
    "\n",
    "svm = SVC()\n",
    "svm.fit(X_train_scaler, y_train)\n",
    "\n",
    "pred = svm.predict(X_test_scaler)\n",
    "print(\"Accuracy:\", accuracy_score(y_test, pred))\n",
    "print(\"Classification Report:\")\n",
    "print(classification_report(y_test, pred))\n",
    "# markers = ('s', 'x', 'o', '^', 'v')\n",
    "# colors = ('red', 'blue', 'lightgreen', 'gray', 'cyan')\n",
    "# for i in range(len(features)):\n",
    "#     plt.plot(features_new[i, 0], features_new[i, 1], marker=markers[int(label[i])], color=colors[int(label[i])])\n",
    "# plt.show()\n",
    "from sklearn.neighbors import KNeighborsClassifier\n",
    "\n",
    "clf = KNeighborsClassifier()\n",
    "clf.fit(X_train_scaler, y_train)\n",
    "pred = clf.predict(X_test_scaler)\n",
    "print(\"Accuracy:\", accuracy_score(y_test, pred))\n",
    "print(\"Classification Report:\")\n",
    "print(classification_report(y_test, pred))\n",
    "\n",
    "from sklearn.ensemble import RandomForestClassifier\n",
    "\n",
    "clf = RandomForestClassifier()\n",
    "clf.fit(X_train_scaler, y_train)\n",
    "pred = clf.predict(X_test_scaler)\n",
    "print(\"Accuracy:\", accuracy_score(y_test, pred))\n",
    "print(\"Classification Report:\")\n",
    "print(classification_report(y_test, pred))\n"
   ]
  },
  {
   "cell_type": "code",
   "execution_count": null,
   "metadata": {},
   "outputs": [],
   "source": []
  }
 ],
 "metadata": {
  "kernelspec": {
   "display_name": "proj1",
   "language": "python",
   "name": "python3"
  },
  "language_info": {
   "codemirror_mode": {
    "name": "ipython",
    "version": 3
   },
   "file_extension": ".py",
   "mimetype": "text/x-python",
   "name": "python",
   "nbconvert_exporter": "python",
   "pygments_lexer": "ipython3",
   "version": "3.11.5"
  }
 },
 "nbformat": 4,
 "nbformat_minor": 2
}
