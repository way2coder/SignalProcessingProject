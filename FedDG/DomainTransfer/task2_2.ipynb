{
 "cells": [
  {
   "cell_type": "markdown",
   "metadata": {},
   "source": [
    "# 使用 FedDG 的方法，对 domain1-5 的训练样本执行 2D 傅里叶变换。展示图像的幅度谱和相位谱，并确保包括灰度调整和频谱中心化。"
   ]
  },
  {
   "cell_type": "code",
   "execution_count": 39,
   "metadata": {},
   "outputs": [],
   "source": [
    "from matplotlib.offsetbox import OffsetImage, AnnotationBbox\n",
    "from sklearn.manifold import TSNE\n",
    "import cv2\n",
    "import numpy as np\n",
    "import matplotlib.pyplot as plt\n",
    "import os\n",
    " \n",
    "folders = [r'G:\\FedICRA\\data\\FAZ\\Domain1\\train\\imgs', r'G:\\FedICRA\\data\\FAZ\\Domain2\\train\\imgs', r'G:\\FedICRA\\data\\FAZ\\Domain3\\train\\imgs',r'G:\\FedICRA\\data\\FAZ\\Domain4\\train\\imgs', r'G:\\FedICRA\\data\\FAZ\\Domain5\\train\\imgs']\n",
    "\n",
    "\n",
    "\n",
    "# 从文件夹中获取所有的文件路径\n",
    "def load_images_from_folders(folders):\n",
    "    image_paths = []\n",
    "\n",
    "    for folder in folders:\n",
    "        for root, dirs, files in os.walk(folder):\n",
    "            for file in files:\n",
    "                if file.endswith(('jpg', 'jpeg', 'png')):\n",
    "                    img_path = os.path.join(root, file)\n",
    "                    image_paths.append(img_path)  # Store image names\n",
    "    return image_paths\n",
    "\n",
    "\n"
   ]
  },
  {
   "cell_type": "code",
   "execution_count": 41,
   "metadata": {},
   "outputs": [],
   "source": [
    "# 图像处理并保存，默认保存在当前文件目录下的Domain{i}文件夹下\n",
    "def image_processing(image_paths):\n",
    "    for path in image_paths:\n",
    "        img = cv2.imread(path)\n",
    "        # img_resize = cv2.resize(img, (200,200))\n",
    "        gray_image = cv2.cvtColor(img, cv2.COLOR_BGR2GRAY)    # 灰度调整\n",
    "        spect = np.fft.fft2(gray_image)\n",
    "        spect = np.fft.fftshift(spect)  # 频谱中心化\n",
    "        spect_amp = np.abs(spect)\n",
    "        spect_pha = np.angle(spect)\n",
    "        parts = path.split('\\\\')  # 使用 '\\\\' 进行路径分割，得到每个部分\n",
    "\n",
    "        domain = parts[4]  # 获取Domain信息所在的部分，索引为5（从0开始计数）\n",
    "\n",
    "        img_name = parts[-1].split('.')[-2]\n",
    "\n",
    "        current_directory = os.getcwd()  # 获取当前工作目录\n",
    "\n",
    "        save_directory = os.path.join(current_directory, domain)  # 假设保存在Domain文件夹下\n",
    "        if not os.path.exists(save_directory):\n",
    "            os.makedirs(save_directory)\n",
    "        amplitude_path = os.path.join(save_directory, f'{img_name}_amp.png')\n",
    "        phase_path = os.path.join(save_directory,f'{img_name}_pha.png')\n",
    "\n",
    "\n",
    "        cv2.imwrite(amplitude_path, spect_amp)\n",
    "        cv2.imwrite(phase_path, spect_amp)\n",
    "\n",
    "    print('>>>>>>>>>>IMAGE WRITE DONE')"
   ]
  },
  {
   "cell_type": "code",
   "execution_count": 42,
   "metadata": {},
   "outputs": [
    {
     "name": "stdout",
     "output_type": "stream",
     "text": [
      ">>>>>>>>>>IMAGE WRITE DONE\n"
     ]
    }
   ],
   "source": [
    "image_paths = load_images_from_folders(folders)\n",
    "image_processing(image_paths)"
   ]
  },
  {
   "cell_type": "code",
   "execution_count": null,
   "metadata": {},
   "outputs": [],
   "source": [
    "path = r'G:\\FedICRA\\data\\FAZ\\Domain1\\train\\imgs\\001_M_1.png'\n",
    "img = cv2.imread(path)\n",
    "# img_resize = cv2.resize(img, (200,200))\n",
    "gray_image = cv2.cvtColor(img, cv2.COLOR_BGR2GRAY)\n",
    "spect = np.fft.fft2(gray_image)\n",
    "spect = np.fft.fftshift(spect)\n",
    "spect_amp = np.abs(spect)\n",
    "\n",
    "spect_pha = np.angle(spect)\n",
    "parts = path.split('\\\\')  # 使用 '\\\\' 进行路径分割，得到每个部分\n",
    "# print(spect_amp[0:10,0:10])\n",
    "domain = parts[4]  # 获取Domain信息所在的部分，索引为5（从0开始计数）\n",
    "\n",
    "img_name = parts[-1].split('.')[-2]\n",
    "\n",
    "current_directory = os.getcwd()  # 获取当前工作目录\n",
    "\n",
    "save_directory = os.path.join(current_directory, domain)  # 假设保存在Domain文件夹下\n",
    "if not os.path.exists(save_directory):\n",
    "    os.makedirs(save_directory)\n",
    "amplitude_path = os.path.join(save_directory, f'{img_name}_amp.jpg')\n",
    "phase_path = os.path.join(save_directory,f'{img_name}_pha.png')\n",
    "\n",
    "\n",
    "cv2.imwrite(amplitude_path, spect_amp)\n",
    "cv2.imwrite(phase_path, spect_amp)"
   ]
  },
  {
   "cell_type": "code",
   "execution_count": 21,
   "metadata": {},
   "outputs": [
    {
     "name": "stdout",
     "output_type": "stream",
     "text": [
      "g:\\FedICRA\\t-SNE\n"
     ]
    }
   ],
   "source": [
    "\n",
    "current_directory = os.getcwd()  # 获取当前工作目录\n",
    "img_name = r'G:\\FedICRA\\data\\FAZ\\Domain1\\train\\imgs\\001_M_1.png'\n",
    "\n",
    "amplitude_path = os.path.join(current_directory)\n",
    "print(amplitude_path)"
   ]
  },
  {
   "cell_type": "code",
   "execution_count": null,
   "metadata": {},
   "outputs": [],
   "source": []
  }
 ],
 "metadata": {
  "kernelspec": {
   "display_name": "pilot",
   "language": "python",
   "name": "python3"
  },
  "language_info": {
   "codemirror_mode": {
    "name": "ipython",
    "version": 3
   },
   "file_extension": ".py",
   "mimetype": "text/x-python",
   "name": "python",
   "nbconvert_exporter": "python",
   "pygments_lexer": "ipython3",
   "version": "3.10.13"
  }
 },
 "nbformat": 4,
 "nbformat_minor": 2
}
